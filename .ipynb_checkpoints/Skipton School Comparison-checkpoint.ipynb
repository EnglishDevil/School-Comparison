{
 "cells": [
  {
   "cell_type": "markdown",
   "metadata": {
    "slideshow": {
     "slide_type": "slide"
    }
   },
   "source": [
    " # Skipton School Comparison\n",
    " \n",
    " ## Introduction\n",
    " I want to make an informed decision on school choice for my children. Initially, this will be a comparison of the 4 secondary schools in Skipton using available goverment metrics taken from school-performance.service.gov.uk/compare-schools?for=secondary . I may later compare these schools to other cities where would possibly live in the future, such as Leeds.\n",
    " \n",
    " ### School and metrics to be assesed\n",
    " I will analyse Skipton Girl's High School and Ermysted's Grammar School as they are considered to be the best schools in the town and arguably the best in North Yorkshire. In order to provide comparison I will further compare these with the other schools in Skipton Skipton Academy and Upper Wharfdale School. \n",
    " \n",
    "## Data Import"
   ]
  },
  {
   "cell_type": "code",
   "execution_count": 4,
   "metadata": {},
   "outputs": [],
   "source": [
    "import pandas as pd\n",
    "\n",
    "ks4pro = pd.read_csv('https://raw.githubusercontent.com/EnglishDevil/School-Comparison/master/815_2019_ks4provisional.csv', usecols=(\"URN\",\"SCHNAME\",\"PTEBACC_95\",\"P8_BANDING\",\"ATT8SCR\"),dtype={'URN': 'S75'})\n",
    "ks4pro['URN'] = ks4pro['URN'].astype(str)\n",
    "#strip the unwanted junk characters in the URN column\n",
    "ks4pro['URN'] = ks4pro['URN'].map(lambda x: x.lstrip('b'').rstrip('''))\n",
    "ks4pro['URN'] = ks4pro['URN'].str.replace(\"'\", \"\")\n",
    "\n"
   ]
  },
  {
   "cell_type": "code",
   "execution_count": 5,
   "metadata": {},
   "outputs": [],
   "source": [
    "census2019 = pd.read_csv('https://raw.githubusercontent.com/EnglishDevil/School-Comparison/master/815_2019_census.csv', usecols=(\"URN\", \"PNUMEAL\"))\n",
    "cfr2019 = pd.read_csv('https://raw.githubusercontent.com/EnglishDevil/School-Comparison/master/815_2019_cfr.csv', usecols=('URN', 'TOTALINCOME'))"
   ]
  },
  {
   "cell_type": "code",
   "execution_count": 6,
   "metadata": {},
   "outputs": [
    {
     "name": "stdout",
     "output_type": "stream",
     "text": [
      "<class 'pandas.core.frame.DataFrame'>\n",
      "RangeIndex: 313 entries, 0 to 312\n",
      "Data columns (total 2 columns):\n",
      "URN            276 non-null object\n",
      "TOTALINCOME    313 non-null object\n",
      "dtypes: object(2)\n",
      "memory usage: 5.0+ KB\n"
     ]
    }
   ],
   "source": [
    "cfr2019.info()"
   ]
  },
  {
   "cell_type": "code",
   "execution_count": 7,
   "metadata": {},
   "outputs": [],
   "source": [
    "#merge all the 2019 tables\n",
    "\n",
    "merge2019 = pd.merge(left=ks4pro,right=census2019, how='left', left_on='URN', right_on='URN')\n",
    "merge2019 = pd.merge(left=merge2019,right=cfr2019, how='left', left_on='URN', right_on='URN')"
   ]
  },
  {
   "cell_type": "code",
   "execution_count": 8,
   "metadata": {},
   "outputs": [
    {
     "name": "stdout",
     "output_type": "stream",
     "text": [
      "<class 'pandas.core.frame.DataFrame'>\n",
      "Int64Index: 75 entries, 0 to 74\n",
      "Data columns (total 7 columns):\n",
      "URN            75 non-null object\n",
      "SCHNAME        72 non-null object\n",
      "ATT8SCR        55 non-null object\n",
      "PTEBACC_95     55 non-null object\n",
      "P8_BANDING     47 non-null object\n",
      "PNUMEAL        53 non-null float64\n",
      "TOTALINCOME    31 non-null object\n",
      "dtypes: float64(1), object(6)\n",
      "memory usage: 4.7+ KB\n"
     ]
    }
   ],
   "source": [
    "merge2019.info()"
   ]
  },
  {
   "cell_type": "code",
   "execution_count": 9,
   "metadata": {},
   "outputs": [
    {
     "data": {
      "text/html": [
       "<div>\n",
       "<style scoped>\n",
       "    .dataframe tbody tr th:only-of-type {\n",
       "        vertical-align: middle;\n",
       "    }\n",
       "\n",
       "    .dataframe tbody tr th {\n",
       "        vertical-align: top;\n",
       "    }\n",
       "\n",
       "    .dataframe thead th {\n",
       "        text-align: right;\n",
       "    }\n",
       "</style>\n",
       "<table border=\"1\" class=\"dataframe\">\n",
       "  <thead>\n",
       "    <tr style=\"text-align: right;\">\n",
       "      <th></th>\n",
       "      <th>URN</th>\n",
       "      <th>SCHNAME</th>\n",
       "      <th>ATT8SCR</th>\n",
       "      <th>PTEBACC_95</th>\n",
       "      <th>P8_BANDING</th>\n",
       "      <th>PNUMEAL</th>\n",
       "      <th>TOTALINCOME</th>\n",
       "    </tr>\n",
       "  </thead>\n",
       "  <tbody>\n",
       "    <tr>\n",
       "      <th>15</th>\n",
       "      <td>121716</td>\n",
       "      <td>Ermysted's Grammar School</td>\n",
       "      <td>71.4</td>\n",
       "      <td>50.0%</td>\n",
       "      <td>1</td>\n",
       "      <td>5.9</td>\n",
       "      <td>4,976</td>\n",
       "    </tr>\n",
       "    <tr>\n",
       "      <th>60</th>\n",
       "      <td>141179</td>\n",
       "      <td>The Skipton Academy</td>\n",
       "      <td>37.1</td>\n",
       "      <td>6.6%</td>\n",
       "      <td>4</td>\n",
       "      <td>6.5</td>\n",
       "      <td>NaN</td>\n",
       "    </tr>\n",
       "    <tr>\n",
       "      <th>61</th>\n",
       "      <td>136664</td>\n",
       "      <td>Skipton Girls' High School</td>\n",
       "      <td>71.1</td>\n",
       "      <td>77.4%</td>\n",
       "      <td>1</td>\n",
       "      <td>6.2</td>\n",
       "      <td>NaN</td>\n",
       "    </tr>\n",
       "    <tr>\n",
       "      <th>68</th>\n",
       "      <td>121690</td>\n",
       "      <td>Upper Wharfedale School</td>\n",
       "      <td>50.2</td>\n",
       "      <td>6.9%</td>\n",
       "      <td>1</td>\n",
       "      <td>6.8</td>\n",
       "      <td>6,967</td>\n",
       "    </tr>\n",
       "  </tbody>\n",
       "</table>\n",
       "</div>"
      ],
      "text/plain": [
       "       URN                     SCHNAME ATT8SCR PTEBACC_95 P8_BANDING  PNUMEAL  \\\n",
       "15  121716   Ermysted's Grammar School    71.4      50.0%          1      5.9   \n",
       "60  141179         The Skipton Academy    37.1       6.6%          4      6.5   \n",
       "61  136664  Skipton Girls' High School    71.1      77.4%          1      6.2   \n",
       "68  121690     Upper Wharfedale School    50.2       6.9%          1      6.8   \n",
       "\n",
       "   TOTALINCOME  \n",
       "15       4,976  \n",
       "60         NaN  \n",
       "61         NaN  \n",
       "68       6,967  "
      ]
     },
     "execution_count": 9,
     "metadata": {},
     "output_type": "execute_result"
    }
   ],
   "source": [
    "#need to fix it so the URN column doesnt give a decimal place to the data\n",
    "merge2019.loc[(ks4pro['URN'] == \"136664\") | (merge2019['URN'] == \"141179\") | (merge2019['URN'] == \"121716\") | (merge2019['URN'] == \"121690\")]"
   ]
  },
  {
   "cell_type": "code",
   "execution_count": 10,
   "metadata": {},
   "outputs": [],
   "source": [
    "#merge2019.loc[(merge2019['SCHNAME'] == \"The Skipton Academy\")]"
   ]
  },
  {
   "cell_type": "code",
   "execution_count": null,
   "metadata": {},
   "outputs": [],
   "source": []
  }
 ],
 "metadata": {
  "kernelspec": {
   "display_name": "Python 3",
   "language": "python",
   "name": "python3"
  },
  "language_info": {
   "codemirror_mode": {
    "name": "ipython",
    "version": 3
   },
   "file_extension": ".py",
   "mimetype": "text/x-python",
   "name": "python",
   "nbconvert_exporter": "python",
   "pygments_lexer": "ipython3",
   "version": "3.7.3"
  }
 },
 "nbformat": 4,
 "nbformat_minor": 4
}
